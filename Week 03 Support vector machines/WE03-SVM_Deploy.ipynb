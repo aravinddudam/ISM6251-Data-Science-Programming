{
 "cells": [
  {
   "cell_type": "code",
   "execution_count": 4,
   "id": "3833ab74",
   "metadata": {},
   "outputs": [
    {
     "name": "stdout",
     "output_type": "stream",
     "text": [
      "\n",
      "*******************\n",
      "* ridingmower Ownership Prediction Model *\n",
      "*******************\n",
      "\n",
      "Enter the Income: 84\n",
      "Enter the Lotsize: 17.6\n",
      "\n",
      "According to the ridingmower Ownership Predective Model, the probability of 0.5639, therefore it indicates that it is: Nonowner.\n",
      "\n"
     ]
    }
   ],
   "source": [
    "import pandas as pd\n",
    "import numpy as np\n",
    "import matplotlib.pyplot as plt\n",
    "from sklearn.metrics import confusion_matrix\n",
    "\n",
    "import pickle\n",
    "\n",
    "\n",
    "ridingmower_model = pickle.load(open(\"C:/USF/DSP/pickle.csv\", \"rb\"))\n",
    "\n",
    "print(\"\\n*******************\")\n",
    "print(\"* ridingmower Ownership Prediction Model *\")\n",
    "print(\"*******************\\n\")\n",
    "Income = float(input(\"Enter the Income: \"))\n",
    "Lot_Size= float(input(\"Enter the Lotsize: \"))\n",
    "df = pd.DataFrame({'Income': [Income], 'Lot_Size': [Lot_Size]})\n",
    "result = ridingmower_model.predict(df)\n",
    "probability = ridingmower_model.predict_proba(df)\n",
    "Ownership = ('Owner', 'Nonowner')\n",
    "print(f\"\\nAccording to the ridingmower Ownership Predective Model, the probability of {probability[0][1]:.4f}, therefore it indicates that it is: {Ownership[result[0]]}.\\n\")"
   ]
  },
  {
   "cell_type": "code",
   "execution_count": null,
   "id": "894a18d9",
   "metadata": {},
   "outputs": [],
   "source": []
  },
  {
   "cell_type": "code",
   "execution_count": null,
   "id": "eb451b3d",
   "metadata": {},
   "outputs": [],
   "source": []
  }
 ],
 "metadata": {
  "kernelspec": {
   "display_name": "Python 3 (ipykernel)",
   "language": "python",
   "name": "python3"
  },
  "language_info": {
   "codemirror_mode": {
    "name": "ipython",
    "version": 3
   },
   "file_extension": ".py",
   "mimetype": "text/x-python",
   "name": "python",
   "nbconvert_exporter": "python",
   "pygments_lexer": "ipython3",
   "version": "3.9.12"
  }
 },
 "nbformat": 4,
 "nbformat_minor": 5
}
