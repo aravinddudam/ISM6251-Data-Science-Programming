{
 "cells": [
  {
   "cell_type": "markdown",
   "id": "389258be",
   "metadata": {},
   "source": [
    "# WE07"
   ]
  },
  {
   "cell_type": "markdown",
   "id": "64b0f091",
   "metadata": {},
   "source": [
    "## ARAVIND DUDAM\n",
    "\n",
    "## U04440266"
   ]
  },
  {
   "cell_type": "markdown",
   "id": "9f4997f2",
   "metadata": {},
   "source": [
    "## About the dataset.\n",
    "\n",
    "The dataset is provideds the information on electric utility companies, their contact information, the types of services they offer, and the rates they charge for their services. The dataset also includes information on the service territories of electric utility companies and the types of energy sources they use to generate electricity.\n",
    "\n",
    "Users can search the dataset by entering a zipcode and selecting a search radius. The dataset will then return a list of electric utility companies operating within the specified search radius, along with their contact information and rate information.\n",
    "\n",
    "This dataset can be useful for individuals and businesses looking to compare rates and services offered by different electric utility companies in their area. It can also be used by researchers and policymakers to analyze trends in the electric utility industry and develop policies to promote competition and improve the affordability and reliability of electricity services.\n"
   ]
  },
  {
   "cell_type": "markdown",
   "id": "ed636e58",
   "metadata": {},
   "source": [
    "## Importing Libraries"
   ]
  },
  {
   "cell_type": "code",
   "execution_count": 1,
   "id": "da2d442c",
   "metadata": {},
   "outputs": [],
   "source": [
    "import pandas as pd\n",
    "import numpy as np\n",
    "from sklearn.model_selection import train_test_split\n",
    "import matplotlib.pyplot as plt\n",
    "# set random seed to ensure that results are repeatable\n",
    "np.random.seed(1)"
   ]
  },
  {
   "cell_type": "markdown",
   "id": "691d7540",
   "metadata": {},
   "source": [
    "## Loading the data"
   ]
  },
  {
   "cell_type": "code",
   "execution_count": 2,
   "id": "fdb20ba2",
   "metadata": {
    "scrolled": false
   },
   "outputs": [],
   "source": [
    "df = pd.read_csv(\"C:/Users/Aravind Dudam/Downloads/DSP/iou_zipcodes_2020_01.csv\")"
   ]
  },
  {
   "cell_type": "code",
   "execution_count": 3,
   "id": "e2be4968",
   "metadata": {},
   "outputs": [
    {
     "name": "stdout",
     "output_type": "stream",
     "text": [
      "<class 'pandas.core.frame.DataFrame'>\n",
      "RangeIndex: 3572 entries, 0 to 3571\n",
      "Data columns (total 9 columns):\n",
      " #   Column        Non-Null Count  Dtype  \n",
      "---  ------        --------------  -----  \n",
      " 0   zip           3572 non-null   int64  \n",
      " 1   eiaid         3572 non-null   int64  \n",
      " 2   utility_name  3572 non-null   object \n",
      " 3   state         3572 non-null   object \n",
      " 4   service_type  3572 non-null   int64  \n",
      " 5   ownership     3572 non-null   object \n",
      " 6   comm_rate     3572 non-null   float64\n",
      " 7   ind_rate      3572 non-null   float64\n",
      " 8   res_rate      3572 non-null   float64\n",
      "dtypes: float64(3), int64(3), object(3)\n",
      "memory usage: 251.3+ KB\n"
     ]
    }
   ],
   "source": [
    "df.info(5)"
   ]
  },
  {
   "cell_type": "code",
   "execution_count": 4,
   "id": "f9c6fc12",
   "metadata": {},
   "outputs": [
    {
     "data": {
      "text/html": [
       "<div>\n",
       "<style scoped>\n",
       "    .dataframe tbody tr th:only-of-type {\n",
       "        vertical-align: middle;\n",
       "    }\n",
       "\n",
       "    .dataframe tbody tr th {\n",
       "        vertical-align: top;\n",
       "    }\n",
       "\n",
       "    .dataframe thead th {\n",
       "        text-align: right;\n",
       "    }\n",
       "</style>\n",
       "<table border=\"1\" class=\"dataframe\">\n",
       "  <thead>\n",
       "    <tr style=\"text-align: right;\">\n",
       "      <th></th>\n",
       "      <th>zip</th>\n",
       "      <th>eiaid</th>\n",
       "      <th>utility_name</th>\n",
       "      <th>state</th>\n",
       "      <th>service_type</th>\n",
       "      <th>ownership</th>\n",
       "      <th>comm_rate</th>\n",
       "      <th>ind_rate</th>\n",
       "      <th>res_rate</th>\n",
       "    </tr>\n",
       "  </thead>\n",
       "  <tbody>\n",
       "    <tr>\n",
       "      <th>0</th>\n",
       "      <td>85321</td>\n",
       "      <td>176</td>\n",
       "      <td>Ajo Improvement Co</td>\n",
       "      <td>AZ</td>\n",
       "      <td>1</td>\n",
       "      <td>Investor Owned</td>\n",
       "      <td>0.087890</td>\n",
       "      <td>0.000000</td>\n",
       "      <td>0.093887</td>\n",
       "    </tr>\n",
       "    <tr>\n",
       "      <th>1</th>\n",
       "      <td>36560</td>\n",
       "      <td>195</td>\n",
       "      <td>Alabama Power Co</td>\n",
       "      <td>AL</td>\n",
       "      <td>1</td>\n",
       "      <td>Investor Owned</td>\n",
       "      <td>0.121895</td>\n",
       "      <td>0.063652</td>\n",
       "      <td>0.135057</td>\n",
       "    </tr>\n",
       "    <tr>\n",
       "      <th>2</th>\n",
       "      <td>36513</td>\n",
       "      <td>195</td>\n",
       "      <td>Alabama Power Co</td>\n",
       "      <td>AL</td>\n",
       "      <td>1</td>\n",
       "      <td>Investor Owned</td>\n",
       "      <td>0.121895</td>\n",
       "      <td>0.063652</td>\n",
       "      <td>0.135057</td>\n",
       "    </tr>\n",
       "    <tr>\n",
       "      <th>3</th>\n",
       "      <td>36280</td>\n",
       "      <td>195</td>\n",
       "      <td>Alabama Power Co</td>\n",
       "      <td>AL</td>\n",
       "      <td>1</td>\n",
       "      <td>Investor Owned</td>\n",
       "      <td>0.121895</td>\n",
       "      <td>0.063652</td>\n",
       "      <td>0.135057</td>\n",
       "    </tr>\n",
       "    <tr>\n",
       "      <th>4</th>\n",
       "      <td>35473</td>\n",
       "      <td>195</td>\n",
       "      <td>Alabama Power Co</td>\n",
       "      <td>AL</td>\n",
       "      <td>1</td>\n",
       "      <td>Investor Owned</td>\n",
       "      <td>0.121895</td>\n",
       "      <td>0.063652</td>\n",
       "      <td>0.135057</td>\n",
       "    </tr>\n",
       "    <tr>\n",
       "      <th>5</th>\n",
       "      <td>35229</td>\n",
       "      <td>195</td>\n",
       "      <td>Alabama Power Co</td>\n",
       "      <td>AL</td>\n",
       "      <td>1</td>\n",
       "      <td>Investor Owned</td>\n",
       "      <td>0.121895</td>\n",
       "      <td>0.063652</td>\n",
       "      <td>0.135057</td>\n",
       "    </tr>\n",
       "    <tr>\n",
       "      <th>6</th>\n",
       "      <td>36375</td>\n",
       "      <td>195</td>\n",
       "      <td>Alabama Power Co</td>\n",
       "      <td>AL</td>\n",
       "      <td>1</td>\n",
       "      <td>Investor Owned</td>\n",
       "      <td>0.121895</td>\n",
       "      <td>0.063652</td>\n",
       "      <td>0.135057</td>\n",
       "    </tr>\n",
       "    <tr>\n",
       "      <th>7</th>\n",
       "      <td>35246</td>\n",
       "      <td>195</td>\n",
       "      <td>Alabama Power Co</td>\n",
       "      <td>AL</td>\n",
       "      <td>1</td>\n",
       "      <td>Investor Owned</td>\n",
       "      <td>0.121895</td>\n",
       "      <td>0.063652</td>\n",
       "      <td>0.135057</td>\n",
       "    </tr>\n",
       "    <tr>\n",
       "      <th>8</th>\n",
       "      <td>35249</td>\n",
       "      <td>195</td>\n",
       "      <td>Alabama Power Co</td>\n",
       "      <td>AL</td>\n",
       "      <td>1</td>\n",
       "      <td>Investor Owned</td>\n",
       "      <td>0.121895</td>\n",
       "      <td>0.063652</td>\n",
       "      <td>0.135057</td>\n",
       "    </tr>\n",
       "    <tr>\n",
       "      <th>9</th>\n",
       "      <td>36125</td>\n",
       "      <td>195</td>\n",
       "      <td>Alabama Power Co</td>\n",
       "      <td>AL</td>\n",
       "      <td>1</td>\n",
       "      <td>Investor Owned</td>\n",
       "      <td>0.121895</td>\n",
       "      <td>0.063652</td>\n",
       "      <td>0.135057</td>\n",
       "    </tr>\n",
       "  </tbody>\n",
       "</table>\n",
       "</div>"
      ],
      "text/plain": [
       "     zip  eiaid        utility_name state  service_type       ownership  \\\n",
       "0  85321    176  Ajo Improvement Co    AZ             1  Investor Owned   \n",
       "1  36560    195    Alabama Power Co    AL             1  Investor Owned   \n",
       "2  36513    195    Alabama Power Co    AL             1  Investor Owned   \n",
       "3  36280    195    Alabama Power Co    AL             1  Investor Owned   \n",
       "4  35473    195    Alabama Power Co    AL             1  Investor Owned   \n",
       "5  35229    195    Alabama Power Co    AL             1  Investor Owned   \n",
       "6  36375    195    Alabama Power Co    AL             1  Investor Owned   \n",
       "7  35246    195    Alabama Power Co    AL             1  Investor Owned   \n",
       "8  35249    195    Alabama Power Co    AL             1  Investor Owned   \n",
       "9  36125    195    Alabama Power Co    AL             1  Investor Owned   \n",
       "\n",
       "   comm_rate  ind_rate  res_rate  \n",
       "0   0.087890  0.000000  0.093887  \n",
       "1   0.121895  0.063652  0.135057  \n",
       "2   0.121895  0.063652  0.135057  \n",
       "3   0.121895  0.063652  0.135057  \n",
       "4   0.121895  0.063652  0.135057  \n",
       "5   0.121895  0.063652  0.135057  \n",
       "6   0.121895  0.063652  0.135057  \n",
       "7   0.121895  0.063652  0.135057  \n",
       "8   0.121895  0.063652  0.135057  \n",
       "9   0.121895  0.063652  0.135057  "
      ]
     },
     "execution_count": 4,
     "metadata": {},
     "output_type": "execute_result"
    }
   ],
   "source": [
    "df.head(10)"
   ]
  },
  {
   "cell_type": "markdown",
   "id": "eb515af9",
   "metadata": {},
   "source": [
    "## Checking the Number of rows and columns"
   ]
  },
  {
   "cell_type": "code",
   "execution_count": 5,
   "id": "4b22b97b",
   "metadata": {},
   "outputs": [
    {
     "data": {
      "text/plain": [
       "(3572, 9)"
      ]
     },
     "execution_count": 5,
     "metadata": {},
     "output_type": "execute_result"
    }
   ],
   "source": [
    "df.shape"
   ]
  },
  {
   "cell_type": "markdown",
   "id": "4f0eb99c",
   "metadata": {},
   "source": [
    "## Finding Missing Values"
   ]
  },
  {
   "cell_type": "code",
   "execution_count": 6,
   "id": "cb84e630",
   "metadata": {},
   "outputs": [
    {
     "data": {
      "text/plain": [
       "zip             0\n",
       "eiaid           0\n",
       "utility_name    0\n",
       "state           0\n",
       "service_type    0\n",
       "ownership       0\n",
       "comm_rate       0\n",
       "ind_rate        0\n",
       "res_rate        0\n",
       "dtype: int64"
      ]
     },
     "execution_count": 6,
     "metadata": {},
     "output_type": "execute_result"
    }
   ],
   "source": [
    "df.isnull().sum()"
   ]
  },
  {
   "cell_type": "markdown",
   "id": "be3446f7",
   "metadata": {},
   "source": [
    "## Dropping rows with missing values"
   ]
  },
  {
   "cell_type": "code",
   "execution_count": 7,
   "id": "11e30c24",
   "metadata": {},
   "outputs": [],
   "source": [
    "df = df.dropna()"
   ]
  },
  {
   "cell_type": "code",
   "execution_count": 8,
   "id": "74959e6c",
   "metadata": {},
   "outputs": [
    {
     "data": {
      "text/plain": [
       "1    2895\n",
       "0     677\n",
       "Name: service_type, dtype: int64"
      ]
     },
     "execution_count": 8,
     "metadata": {},
     "output_type": "execute_result"
    }
   ],
   "source": [
    "# Target Variable \"Service type\"\n",
    "df['service_type'].value_counts()"
   ]
  },
  {
   "cell_type": "markdown",
   "id": "811a678e",
   "metadata": {},
   "source": [
    "## Checking for Null Values"
   ]
  },
  {
   "cell_type": "code",
   "execution_count": 9,
   "id": "35c0b8f3",
   "metadata": {},
   "outputs": [
    {
     "data": {
      "text/plain": [
       "zip             0\n",
       "eiaid           0\n",
       "utility_name    0\n",
       "state           0\n",
       "service_type    0\n",
       "ownership       0\n",
       "comm_rate       0\n",
       "ind_rate        0\n",
       "res_rate        0\n",
       "dtype: int64"
      ]
     },
     "execution_count": 9,
     "metadata": {},
     "output_type": "execute_result"
    }
   ],
   "source": [
    "df.isna().sum()"
   ]
  },
  {
   "cell_type": "code",
   "execution_count": 10,
   "id": "310eb55a",
   "metadata": {},
   "outputs": [
    {
     "name": "stderr",
     "output_type": "stream",
     "text": [
      "C:\\Users\\Aravind Dudam\\AppData\\Local\\Temp\\ipykernel_11040\\3199772146.py:1: FutureWarning: The default value of numeric_only in DataFrame.corr is deprecated. In a future version, it will default to False. Select only valid columns or specify the value of numeric_only to silence this warning.\n",
      "  df.corr()['service_type'].sort_values(ascending=False)\n"
     ]
    },
    {
     "data": {
      "text/plain": [
       "service_type    1.000000\n",
       "res_rate        0.479214\n",
       "comm_rate       0.449844\n",
       "ind_rate        0.360941\n",
       "zip             0.259967\n",
       "eiaid          -0.396470\n",
       "Name: service_type, dtype: float64"
      ]
     },
     "execution_count": 10,
     "metadata": {},
     "output_type": "execute_result"
    }
   ],
   "source": [
    "df.corr()['service_type'].sort_values(ascending=False)"
   ]
  },
  {
   "cell_type": "markdown",
   "id": "e15db687",
   "metadata": {},
   "source": [
    "## Dropping the unrelavent columns"
   ]
  },
  {
   "cell_type": "code",
   "execution_count": 11,
   "id": "4170e945",
   "metadata": {},
   "outputs": [],
   "source": [
    "df_droped = df.drop(columns=[\"eiaid\" , \"zip\" , \"ownership\", \"utility_name\"])"
   ]
  },
  {
   "cell_type": "code",
   "execution_count": 12,
   "id": "30835d3f",
   "metadata": {},
   "outputs": [
    {
     "data": {
      "text/html": [
       "<div>\n",
       "<style scoped>\n",
       "    .dataframe tbody tr th:only-of-type {\n",
       "        vertical-align: middle;\n",
       "    }\n",
       "\n",
       "    .dataframe tbody tr th {\n",
       "        vertical-align: top;\n",
       "    }\n",
       "\n",
       "    .dataframe thead th {\n",
       "        text-align: right;\n",
       "    }\n",
       "</style>\n",
       "<table border=\"1\" class=\"dataframe\">\n",
       "  <thead>\n",
       "    <tr style=\"text-align: right;\">\n",
       "      <th></th>\n",
       "      <th>state</th>\n",
       "      <th>service_type</th>\n",
       "      <th>comm_rate</th>\n",
       "      <th>ind_rate</th>\n",
       "      <th>res_rate</th>\n",
       "    </tr>\n",
       "  </thead>\n",
       "  <tbody>\n",
       "    <tr>\n",
       "      <th>0</th>\n",
       "      <td>AZ</td>\n",
       "      <td>1</td>\n",
       "      <td>0.087890</td>\n",
       "      <td>0.000000</td>\n",
       "      <td>0.093887</td>\n",
       "    </tr>\n",
       "    <tr>\n",
       "      <th>1</th>\n",
       "      <td>AL</td>\n",
       "      <td>1</td>\n",
       "      <td>0.121895</td>\n",
       "      <td>0.063652</td>\n",
       "      <td>0.135057</td>\n",
       "    </tr>\n",
       "    <tr>\n",
       "      <th>2</th>\n",
       "      <td>AL</td>\n",
       "      <td>1</td>\n",
       "      <td>0.121895</td>\n",
       "      <td>0.063652</td>\n",
       "      <td>0.135057</td>\n",
       "    </tr>\n",
       "    <tr>\n",
       "      <th>3</th>\n",
       "      <td>AL</td>\n",
       "      <td>1</td>\n",
       "      <td>0.121895</td>\n",
       "      <td>0.063652</td>\n",
       "      <td>0.135057</td>\n",
       "    </tr>\n",
       "    <tr>\n",
       "      <th>4</th>\n",
       "      <td>AL</td>\n",
       "      <td>1</td>\n",
       "      <td>0.121895</td>\n",
       "      <td>0.063652</td>\n",
       "      <td>0.135057</td>\n",
       "    </tr>\n",
       "    <tr>\n",
       "      <th>...</th>\n",
       "      <td>...</td>\n",
       "      <td>...</td>\n",
       "      <td>...</td>\n",
       "      <td>...</td>\n",
       "      <td>...</td>\n",
       "    </tr>\n",
       "    <tr>\n",
       "      <th>3567</th>\n",
       "      <td>CA</td>\n",
       "      <td>0</td>\n",
       "      <td>0.146224</td>\n",
       "      <td>0.000000</td>\n",
       "      <td>0.140019</td>\n",
       "    </tr>\n",
       "    <tr>\n",
       "      <th>3568</th>\n",
       "      <td>CA</td>\n",
       "      <td>0</td>\n",
       "      <td>0.146224</td>\n",
       "      <td>0.000000</td>\n",
       "      <td>0.140019</td>\n",
       "    </tr>\n",
       "    <tr>\n",
       "      <th>3569</th>\n",
       "      <td>CA</td>\n",
       "      <td>0</td>\n",
       "      <td>0.146224</td>\n",
       "      <td>0.000000</td>\n",
       "      <td>0.140019</td>\n",
       "    </tr>\n",
       "    <tr>\n",
       "      <th>3570</th>\n",
       "      <td>CA</td>\n",
       "      <td>0</td>\n",
       "      <td>0.146224</td>\n",
       "      <td>0.000000</td>\n",
       "      <td>0.140019</td>\n",
       "    </tr>\n",
       "    <tr>\n",
       "      <th>3571</th>\n",
       "      <td>CA</td>\n",
       "      <td>0</td>\n",
       "      <td>0.146224</td>\n",
       "      <td>0.000000</td>\n",
       "      <td>0.140019</td>\n",
       "    </tr>\n",
       "  </tbody>\n",
       "</table>\n",
       "<p>3572 rows × 5 columns</p>\n",
       "</div>"
      ],
      "text/plain": [
       "     state  service_type  comm_rate  ind_rate  res_rate\n",
       "0       AZ             1   0.087890  0.000000  0.093887\n",
       "1       AL             1   0.121895  0.063652  0.135057\n",
       "2       AL             1   0.121895  0.063652  0.135057\n",
       "3       AL             1   0.121895  0.063652  0.135057\n",
       "4       AL             1   0.121895  0.063652  0.135057\n",
       "...    ...           ...        ...       ...       ...\n",
       "3567    CA             0   0.146224  0.000000  0.140019\n",
       "3568    CA             0   0.146224  0.000000  0.140019\n",
       "3569    CA             0   0.146224  0.000000  0.140019\n",
       "3570    CA             0   0.146224  0.000000  0.140019\n",
       "3571    CA             0   0.146224  0.000000  0.140019\n",
       "\n",
       "[3572 rows x 5 columns]"
      ]
     },
     "execution_count": 12,
     "metadata": {},
     "output_type": "execute_result"
    }
   ],
   "source": [
    "df_droped"
   ]
  },
  {
   "cell_type": "code",
   "execution_count": 13,
   "id": "3d36bf81",
   "metadata": {},
   "outputs": [
    {
     "data": {
      "text/plain": [
       "2"
      ]
     },
     "execution_count": 13,
     "metadata": {},
     "output_type": "execute_result"
    }
   ],
   "source": [
    "len(df[\"service_type\"].unique())"
   ]
  },
  {
   "cell_type": "markdown",
   "id": "2f0a73f9",
   "metadata": {},
   "source": [
    "df_droped['comm_rate'] = df['comm_rate'].astype(int)\n",
    "df_droped['ind_rate'] = df['ind_rate'].astype(int)\n",
    "df_droped['res_rate'] = df['res_rate'].astype(int)\n",
    "df_droped"
   ]
  },
  {
   "cell_type": "code",
   "execution_count": 14,
   "id": "b7a08985",
   "metadata": {},
   "outputs": [
    {
     "data": {
      "text/plain": [
       "50"
      ]
     },
     "execution_count": 14,
     "metadata": {},
     "output_type": "execute_result"
    }
   ],
   "source": [
    "len(df_droped[\"comm_rate\"].unique())"
   ]
  },
  {
   "cell_type": "markdown",
   "id": "171e4cc7",
   "metadata": {},
   "source": [
    "## Performing one hot encoding"
   ]
  },
  {
   "cell_type": "code",
   "execution_count": 15,
   "id": "f8e23fbf",
   "metadata": {},
   "outputs": [
    {
     "data": {
      "text/html": [
       "<div>\n",
       "<style scoped>\n",
       "    .dataframe tbody tr th:only-of-type {\n",
       "        vertical-align: middle;\n",
       "    }\n",
       "\n",
       "    .dataframe tbody tr th {\n",
       "        vertical-align: top;\n",
       "    }\n",
       "\n",
       "    .dataframe thead th {\n",
       "        text-align: right;\n",
       "    }\n",
       "</style>\n",
       "<table border=\"1\" class=\"dataframe\">\n",
       "  <thead>\n",
       "    <tr style=\"text-align: right;\">\n",
       "      <th></th>\n",
       "      <th>service_type</th>\n",
       "      <th>comm_rate</th>\n",
       "      <th>ind_rate</th>\n",
       "      <th>res_rate</th>\n",
       "      <th>state_AK</th>\n",
       "      <th>state_AL</th>\n",
       "      <th>state_AR</th>\n",
       "      <th>state_AZ</th>\n",
       "      <th>state_CA</th>\n",
       "      <th>state_CO</th>\n",
       "      <th>...</th>\n",
       "      <th>state_NJ</th>\n",
       "      <th>state_NY</th>\n",
       "      <th>state_OH</th>\n",
       "      <th>state_OR</th>\n",
       "      <th>state_PA</th>\n",
       "      <th>state_TN</th>\n",
       "      <th>state_TX</th>\n",
       "      <th>state_VA</th>\n",
       "      <th>state_VT</th>\n",
       "      <th>state_WV</th>\n",
       "    </tr>\n",
       "  </thead>\n",
       "  <tbody>\n",
       "    <tr>\n",
       "      <th>0</th>\n",
       "      <td>1</td>\n",
       "      <td>0.087890</td>\n",
       "      <td>0.000000</td>\n",
       "      <td>0.093887</td>\n",
       "      <td>0</td>\n",
       "      <td>0</td>\n",
       "      <td>0</td>\n",
       "      <td>1</td>\n",
       "      <td>0</td>\n",
       "      <td>0</td>\n",
       "      <td>...</td>\n",
       "      <td>0</td>\n",
       "      <td>0</td>\n",
       "      <td>0</td>\n",
       "      <td>0</td>\n",
       "      <td>0</td>\n",
       "      <td>0</td>\n",
       "      <td>0</td>\n",
       "      <td>0</td>\n",
       "      <td>0</td>\n",
       "      <td>0</td>\n",
       "    </tr>\n",
       "    <tr>\n",
       "      <th>1</th>\n",
       "      <td>1</td>\n",
       "      <td>0.121895</td>\n",
       "      <td>0.063652</td>\n",
       "      <td>0.135057</td>\n",
       "      <td>0</td>\n",
       "      <td>1</td>\n",
       "      <td>0</td>\n",
       "      <td>0</td>\n",
       "      <td>0</td>\n",
       "      <td>0</td>\n",
       "      <td>...</td>\n",
       "      <td>0</td>\n",
       "      <td>0</td>\n",
       "      <td>0</td>\n",
       "      <td>0</td>\n",
       "      <td>0</td>\n",
       "      <td>0</td>\n",
       "      <td>0</td>\n",
       "      <td>0</td>\n",
       "      <td>0</td>\n",
       "      <td>0</td>\n",
       "    </tr>\n",
       "    <tr>\n",
       "      <th>2</th>\n",
       "      <td>1</td>\n",
       "      <td>0.121895</td>\n",
       "      <td>0.063652</td>\n",
       "      <td>0.135057</td>\n",
       "      <td>0</td>\n",
       "      <td>1</td>\n",
       "      <td>0</td>\n",
       "      <td>0</td>\n",
       "      <td>0</td>\n",
       "      <td>0</td>\n",
       "      <td>...</td>\n",
       "      <td>0</td>\n",
       "      <td>0</td>\n",
       "      <td>0</td>\n",
       "      <td>0</td>\n",
       "      <td>0</td>\n",
       "      <td>0</td>\n",
       "      <td>0</td>\n",
       "      <td>0</td>\n",
       "      <td>0</td>\n",
       "      <td>0</td>\n",
       "    </tr>\n",
       "    <tr>\n",
       "      <th>3</th>\n",
       "      <td>1</td>\n",
       "      <td>0.121895</td>\n",
       "      <td>0.063652</td>\n",
       "      <td>0.135057</td>\n",
       "      <td>0</td>\n",
       "      <td>1</td>\n",
       "      <td>0</td>\n",
       "      <td>0</td>\n",
       "      <td>0</td>\n",
       "      <td>0</td>\n",
       "      <td>...</td>\n",
       "      <td>0</td>\n",
       "      <td>0</td>\n",
       "      <td>0</td>\n",
       "      <td>0</td>\n",
       "      <td>0</td>\n",
       "      <td>0</td>\n",
       "      <td>0</td>\n",
       "      <td>0</td>\n",
       "      <td>0</td>\n",
       "      <td>0</td>\n",
       "    </tr>\n",
       "    <tr>\n",
       "      <th>4</th>\n",
       "      <td>1</td>\n",
       "      <td>0.121895</td>\n",
       "      <td>0.063652</td>\n",
       "      <td>0.135057</td>\n",
       "      <td>0</td>\n",
       "      <td>1</td>\n",
       "      <td>0</td>\n",
       "      <td>0</td>\n",
       "      <td>0</td>\n",
       "      <td>0</td>\n",
       "      <td>...</td>\n",
       "      <td>0</td>\n",
       "      <td>0</td>\n",
       "      <td>0</td>\n",
       "      <td>0</td>\n",
       "      <td>0</td>\n",
       "      <td>0</td>\n",
       "      <td>0</td>\n",
       "      <td>0</td>\n",
       "      <td>0</td>\n",
       "      <td>0</td>\n",
       "    </tr>\n",
       "    <tr>\n",
       "      <th>...</th>\n",
       "      <td>...</td>\n",
       "      <td>...</td>\n",
       "      <td>...</td>\n",
       "      <td>...</td>\n",
       "      <td>...</td>\n",
       "      <td>...</td>\n",
       "      <td>...</td>\n",
       "      <td>...</td>\n",
       "      <td>...</td>\n",
       "      <td>...</td>\n",
       "      <td>...</td>\n",
       "      <td>...</td>\n",
       "      <td>...</td>\n",
       "      <td>...</td>\n",
       "      <td>...</td>\n",
       "      <td>...</td>\n",
       "      <td>...</td>\n",
       "      <td>...</td>\n",
       "      <td>...</td>\n",
       "      <td>...</td>\n",
       "      <td>...</td>\n",
       "    </tr>\n",
       "    <tr>\n",
       "      <th>3567</th>\n",
       "      <td>0</td>\n",
       "      <td>0.146224</td>\n",
       "      <td>0.000000</td>\n",
       "      <td>0.140019</td>\n",
       "      <td>0</td>\n",
       "      <td>0</td>\n",
       "      <td>0</td>\n",
       "      <td>0</td>\n",
       "      <td>1</td>\n",
       "      <td>0</td>\n",
       "      <td>...</td>\n",
       "      <td>0</td>\n",
       "      <td>0</td>\n",
       "      <td>0</td>\n",
       "      <td>0</td>\n",
       "      <td>0</td>\n",
       "      <td>0</td>\n",
       "      <td>0</td>\n",
       "      <td>0</td>\n",
       "      <td>0</td>\n",
       "      <td>0</td>\n",
       "    </tr>\n",
       "    <tr>\n",
       "      <th>3568</th>\n",
       "      <td>0</td>\n",
       "      <td>0.146224</td>\n",
       "      <td>0.000000</td>\n",
       "      <td>0.140019</td>\n",
       "      <td>0</td>\n",
       "      <td>0</td>\n",
       "      <td>0</td>\n",
       "      <td>0</td>\n",
       "      <td>1</td>\n",
       "      <td>0</td>\n",
       "      <td>...</td>\n",
       "      <td>0</td>\n",
       "      <td>0</td>\n",
       "      <td>0</td>\n",
       "      <td>0</td>\n",
       "      <td>0</td>\n",
       "      <td>0</td>\n",
       "      <td>0</td>\n",
       "      <td>0</td>\n",
       "      <td>0</td>\n",
       "      <td>0</td>\n",
       "    </tr>\n",
       "    <tr>\n",
       "      <th>3569</th>\n",
       "      <td>0</td>\n",
       "      <td>0.146224</td>\n",
       "      <td>0.000000</td>\n",
       "      <td>0.140019</td>\n",
       "      <td>0</td>\n",
       "      <td>0</td>\n",
       "      <td>0</td>\n",
       "      <td>0</td>\n",
       "      <td>1</td>\n",
       "      <td>0</td>\n",
       "      <td>...</td>\n",
       "      <td>0</td>\n",
       "      <td>0</td>\n",
       "      <td>0</td>\n",
       "      <td>0</td>\n",
       "      <td>0</td>\n",
       "      <td>0</td>\n",
       "      <td>0</td>\n",
       "      <td>0</td>\n",
       "      <td>0</td>\n",
       "      <td>0</td>\n",
       "    </tr>\n",
       "    <tr>\n",
       "      <th>3570</th>\n",
       "      <td>0</td>\n",
       "      <td>0.146224</td>\n",
       "      <td>0.000000</td>\n",
       "      <td>0.140019</td>\n",
       "      <td>0</td>\n",
       "      <td>0</td>\n",
       "      <td>0</td>\n",
       "      <td>0</td>\n",
       "      <td>1</td>\n",
       "      <td>0</td>\n",
       "      <td>...</td>\n",
       "      <td>0</td>\n",
       "      <td>0</td>\n",
       "      <td>0</td>\n",
       "      <td>0</td>\n",
       "      <td>0</td>\n",
       "      <td>0</td>\n",
       "      <td>0</td>\n",
       "      <td>0</td>\n",
       "      <td>0</td>\n",
       "      <td>0</td>\n",
       "    </tr>\n",
       "    <tr>\n",
       "      <th>3571</th>\n",
       "      <td>0</td>\n",
       "      <td>0.146224</td>\n",
       "      <td>0.000000</td>\n",
       "      <td>0.140019</td>\n",
       "      <td>0</td>\n",
       "      <td>0</td>\n",
       "      <td>0</td>\n",
       "      <td>0</td>\n",
       "      <td>1</td>\n",
       "      <td>0</td>\n",
       "      <td>...</td>\n",
       "      <td>0</td>\n",
       "      <td>0</td>\n",
       "      <td>0</td>\n",
       "      <td>0</td>\n",
       "      <td>0</td>\n",
       "      <td>0</td>\n",
       "      <td>0</td>\n",
       "      <td>0</td>\n",
       "      <td>0</td>\n",
       "      <td>0</td>\n",
       "    </tr>\n",
       "  </tbody>\n",
       "</table>\n",
       "<p>3572 rows × 37 columns</p>\n",
       "</div>"
      ],
      "text/plain": [
       "      service_type  comm_rate  ind_rate  res_rate  state_AK  state_AL  \\\n",
       "0                1   0.087890  0.000000  0.093887         0         0   \n",
       "1                1   0.121895  0.063652  0.135057         0         1   \n",
       "2                1   0.121895  0.063652  0.135057         0         1   \n",
       "3                1   0.121895  0.063652  0.135057         0         1   \n",
       "4                1   0.121895  0.063652  0.135057         0         1   \n",
       "...            ...        ...       ...       ...       ...       ...   \n",
       "3567             0   0.146224  0.000000  0.140019         0         0   \n",
       "3568             0   0.146224  0.000000  0.140019         0         0   \n",
       "3569             0   0.146224  0.000000  0.140019         0         0   \n",
       "3570             0   0.146224  0.000000  0.140019         0         0   \n",
       "3571             0   0.146224  0.000000  0.140019         0         0   \n",
       "\n",
       "      state_AR  state_AZ  state_CA  state_CO  ...  state_NJ  state_NY  \\\n",
       "0            0         1         0         0  ...         0         0   \n",
       "1            0         0         0         0  ...         0         0   \n",
       "2            0         0         0         0  ...         0         0   \n",
       "3            0         0         0         0  ...         0         0   \n",
       "4            0         0         0         0  ...         0         0   \n",
       "...        ...       ...       ...       ...  ...       ...       ...   \n",
       "3567         0         0         1         0  ...         0         0   \n",
       "3568         0         0         1         0  ...         0         0   \n",
       "3569         0         0         1         0  ...         0         0   \n",
       "3570         0         0         1         0  ...         0         0   \n",
       "3571         0         0         1         0  ...         0         0   \n",
       "\n",
       "      state_OH  state_OR  state_PA  state_TN  state_TX  state_VA  state_VT  \\\n",
       "0            0         0         0         0         0         0         0   \n",
       "1            0         0         0         0         0         0         0   \n",
       "2            0         0         0         0         0         0         0   \n",
       "3            0         0         0         0         0         0         0   \n",
       "4            0         0         0         0         0         0         0   \n",
       "...        ...       ...       ...       ...       ...       ...       ...   \n",
       "3567         0         0         0         0         0         0         0   \n",
       "3568         0         0         0         0         0         0         0   \n",
       "3569         0         0         0         0         0         0         0   \n",
       "3570         0         0         0         0         0         0         0   \n",
       "3571         0         0         0         0         0         0         0   \n",
       "\n",
       "      state_WV  \n",
       "0            0  \n",
       "1            0  \n",
       "2            0  \n",
       "3            0  \n",
       "4            0  \n",
       "...        ...  \n",
       "3567         0  \n",
       "3568         0  \n",
       "3569         0  \n",
       "3570         0  \n",
       "3571         0  \n",
       "\n",
       "[3572 rows x 37 columns]"
      ]
     },
     "execution_count": 15,
     "metadata": {},
     "output_type": "execute_result"
    }
   ],
   "source": [
    "EncodedData = pd.get_dummies(df_droped, columns = ['state'])\n",
    "EncodedData"
   ]
  },
  {
   "cell_type": "code",
   "execution_count": 16,
   "id": "3ac47483",
   "metadata": {},
   "outputs": [
    {
     "name": "stdout",
     "output_type": "stream",
     "text": [
      "<class 'pandas.core.frame.DataFrame'>\n",
      "RangeIndex: 3572 entries, 0 to 3571\n",
      "Data columns (total 37 columns):\n",
      " #   Column        Non-Null Count  Dtype  \n",
      "---  ------        --------------  -----  \n",
      " 0   service_type  3572 non-null   int64  \n",
      " 1   comm_rate     3572 non-null   float64\n",
      " 2   ind_rate      3572 non-null   float64\n",
      " 3   res_rate      3572 non-null   float64\n",
      " 4   state_AK      3572 non-null   uint8  \n",
      " 5   state_AL      3572 non-null   uint8  \n",
      " 6   state_AR      3572 non-null   uint8  \n",
      " 7   state_AZ      3572 non-null   uint8  \n",
      " 8   state_CA      3572 non-null   uint8  \n",
      " 9   state_CO      3572 non-null   uint8  \n",
      " 10  state_CT      3572 non-null   uint8  \n",
      " 11  state_FL      3572 non-null   uint8  \n",
      " 12  state_GA      3572 non-null   uint8  \n",
      " 13  state_HI      3572 non-null   uint8  \n",
      " 14  state_IA      3572 non-null   uint8  \n",
      " 15  state_ID      3572 non-null   uint8  \n",
      " 16  state_IL      3572 non-null   uint8  \n",
      " 17  state_IN      3572 non-null   uint8  \n",
      " 18  state_KS      3572 non-null   uint8  \n",
      " 19  state_KY      3572 non-null   uint8  \n",
      " 20  state_LA      3572 non-null   uint8  \n",
      " 21  state_MA      3572 non-null   uint8  \n",
      " 22  state_MD      3572 non-null   uint8  \n",
      " 23  state_ME      3572 non-null   uint8  \n",
      " 24  state_MI      3572 non-null   uint8  \n",
      " 25  state_NC      3572 non-null   uint8  \n",
      " 26  state_NH      3572 non-null   uint8  \n",
      " 27  state_NJ      3572 non-null   uint8  \n",
      " 28  state_NY      3572 non-null   uint8  \n",
      " 29  state_OH      3572 non-null   uint8  \n",
      " 30  state_OR      3572 non-null   uint8  \n",
      " 31  state_PA      3572 non-null   uint8  \n",
      " 32  state_TN      3572 non-null   uint8  \n",
      " 33  state_TX      3572 non-null   uint8  \n",
      " 34  state_VA      3572 non-null   uint8  \n",
      " 35  state_VT      3572 non-null   uint8  \n",
      " 36  state_WV      3572 non-null   uint8  \n",
      "dtypes: float64(3), int64(1), uint8(33)\n",
      "memory usage: 226.9 KB\n"
     ]
    }
   ],
   "source": [
    "EncodedData.info()"
   ]
  },
  {
   "cell_type": "markdown",
   "id": "c8029b4a",
   "metadata": {},
   "source": [
    "## Splitting the Model into test train"
   ]
  },
  {
   "cell_type": "code",
   "execution_count": 17,
   "id": "3ab1e088",
   "metadata": {},
   "outputs": [
    {
     "data": {
      "text/plain": [
       "((2500, 36), (1072, 36), (2500,), (1072,))"
      ]
     },
     "execution_count": 17,
     "metadata": {},
     "output_type": "execute_result"
    }
   ],
   "source": [
    "X = EncodedData.drop('service_type',axis=1)\n",
    "y = EncodedData['service_type']\n",
    "X_train, X_test, y_train, y_test = train_test_split(X, y, test_size = 0.3)\n",
    "X_train.shape, X_test.shape, y_train.shape, y_test.shape"
   ]
  },
  {
   "cell_type": "code",
   "execution_count": 18,
   "id": "74e0d0b7",
   "metadata": {},
   "outputs": [
    {
     "data": {
      "text/plain": [
       "2986    1\n",
       "918     0\n",
       "1938    1\n",
       "1604    1\n",
       "1792    1\n",
       "       ..\n",
       "2763    1\n",
       "905     0\n",
       "1096    1\n",
       "235     1\n",
       "1061    1\n",
       "Name: service_type, Length: 2500, dtype: int64"
      ]
     },
     "execution_count": 18,
     "metadata": {},
     "output_type": "execute_result"
    }
   ],
   "source": [
    "y_train"
   ]
  },
  {
   "cell_type": "markdown",
   "id": "be570fc7",
   "metadata": {},
   "source": [
    "## Scaling the Data"
   ]
  },
  {
   "cell_type": "code",
   "execution_count": 19,
   "id": "c989a08b",
   "metadata": {},
   "outputs": [],
   "source": [
    "from sklearn.preprocessing import MinMaxScaler\n",
    "\n",
    "scaler = MinMaxScaler()\n",
    "#model=scaler.fit(X_train)\n",
    "X_train=scaler.fit_transform(X_train)\n",
    "X_test=scaler.fit_transform(X_test)"
   ]
  },
  {
   "cell_type": "markdown",
   "id": "792bdd5c",
   "metadata": {},
   "source": [
    "## Finding the Data Imbalances"
   ]
  },
  {
   "cell_type": "code",
   "execution_count": 20,
   "id": "9b0eaa46",
   "metadata": {},
   "outputs": [
    {
     "data": {
      "text/plain": [
       "1    2007\n",
       "0     493\n",
       "Name: service_type, dtype: int64"
      ]
     },
     "execution_count": 20,
     "metadata": {},
     "output_type": "execute_result"
    }
   ],
   "source": [
    "y_train.value_counts()"
   ]
  },
  {
   "cell_type": "markdown",
   "id": "564271e9",
   "metadata": {},
   "source": [
    "From the above results we can see that their is a data imbalance so for which I have decided to do a undersmapling for the data"
   ]
  },
  {
   "cell_type": "markdown",
   "id": "659b3ffe",
   "metadata": {},
   "source": [
    "## Resampling the Data"
   ]
  },
  {
   "cell_type": "code",
   "execution_count": 21,
   "id": "d2385f92",
   "metadata": {},
   "outputs": [],
   "source": [
    "from imblearn.under_sampling import RandomUnderSampler\n",
    "\n",
    "Undersample = RandomUnderSampler(sampling_strategy ='majority')\n",
    "X_train,y_train = Undersample.fit_resample(X_train, y_train)"
   ]
  },
  {
   "cell_type": "code",
   "execution_count": 23,
   "id": "d7403d8a",
   "metadata": {},
   "outputs": [
    {
     "data": {
      "text/plain": [
       "0    493\n",
       "1    493\n",
       "Name: service_type, dtype: int64"
      ]
     },
     "execution_count": 23,
     "metadata": {},
     "output_type": "execute_result"
    }
   ],
   "source": [
    "y_train.value_counts()"
   ]
  },
  {
   "cell_type": "code",
   "execution_count": 24,
   "id": "c300a4b4",
   "metadata": {
    "scrolled": true
   },
   "outputs": [
    {
     "data": {
      "text/plain": [
       "(986,)"
      ]
     },
     "execution_count": 24,
     "metadata": {},
     "output_type": "execute_result"
    }
   ],
   "source": [
    "y_train.shape"
   ]
  },
  {
   "cell_type": "markdown",
   "id": "6c469daa",
   "metadata": {},
   "source": [
    "### From the above results we can say that the data is resampled "
   ]
  },
  {
   "cell_type": "markdown",
   "id": "b6a4bcf1",
   "metadata": {},
   "source": [
    "## Saving the files for further Model predection operations."
   ]
  },
  {
   "cell_type": "code",
   "execution_count": 25,
   "id": "8a5b72c0",
   "metadata": {},
   "outputs": [],
   "source": [
    "X_train = pd.DataFrame(X_train)\n",
    "X_train.to_csv('C:/Users/Aravind Dudam/Downloads/DSP/X_train.csv', index=False)"
   ]
  },
  {
   "cell_type": "code",
   "execution_count": 26,
   "id": "3e3d6d77",
   "metadata": {},
   "outputs": [],
   "source": [
    "X_test = pd.DataFrame(X_test)\n",
    "X_test.to_csv('C:/Users/Aravind Dudam/Downloads/DSP/X_test.csv', index=False)"
   ]
  },
  {
   "cell_type": "code",
   "execution_count": 27,
   "id": "c56a52b8",
   "metadata": {},
   "outputs": [],
   "source": [
    "y_train = pd.DataFrame(y_train)\n",
    "y_train.to_csv('C:/Users/Aravind Dudam/Downloads/DSP/y_train.csv', index=False)"
   ]
  },
  {
   "cell_type": "code",
   "execution_count": 28,
   "id": "6d1a0541",
   "metadata": {},
   "outputs": [],
   "source": [
    "y_test = pd.DataFrame(y_test)\n",
    "y_test.to_csv('C:/Users/Aravind Dudam/Downloads/DSP/y_test.csv', index=False)"
   ]
  },
  {
   "cell_type": "code",
   "execution_count": null,
   "id": "ff7e546b",
   "metadata": {},
   "outputs": [],
   "source": []
  }
 ],
 "metadata": {
  "kernelspec": {
   "display_name": "Python 3 (ipykernel)",
   "language": "python",
   "name": "python3"
  },
  "language_info": {
   "codemirror_mode": {
    "name": "ipython",
    "version": 3
   },
   "file_extension": ".py",
   "mimetype": "text/x-python",
   "name": "python",
   "nbconvert_exporter": "python",
   "pygments_lexer": "ipython3",
   "version": "3.10.9"
  }
 },
 "nbformat": 4,
 "nbformat_minor": 5
}
