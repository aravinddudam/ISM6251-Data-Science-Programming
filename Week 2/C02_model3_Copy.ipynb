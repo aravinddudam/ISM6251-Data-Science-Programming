{
 "cells": [
  {
   "cell_type": "markdown",
   "id": "66d01c8a-f0cd-42af-aff9-8ba0bbd3c47e",
   "metadata": {
    "slideshow": {
     "slide_type": "slide"
    },
    "tags": []
   },
   "source": [
    "# Predictive Modeling Example"
   ]
  },
  {
   "cell_type": "markdown",
   "id": "049ea964-ba9d-46aa-af88-d13550f27638",
   "metadata": {
    "slideshow": {
     "slide_type": "slide"
    },
    "tags": []
   },
   "source": [
    "## Step 1: Import the libraries we will use in this notebook"
   ]
  },
  {
   "cell_type": "code",
   "execution_count": 43,
   "id": "cca96620-674f-43be-9633-3546127c263b",
   "metadata": {
    "slideshow": {
     "slide_type": "fragment"
    },
    "tags": []
   },
   "outputs": [],
   "source": [
    "import matplotlib.pyplot as plt\n",
    "import numpy as np\n",
    "import pandas as pd\n",
    "from sklearn.linear_model import LinearRegression\n",
    "\n",
    "np.random.seed(1) # set this to ensure the results are repeatable."
   ]
  },
  {
   "cell_type": "markdown",
   "id": "31b63237-2a6b-40be-a7c9-9fd854b52339",
   "metadata": {},
   "source": [
    "## Step 2: Load the given data that we will model"
   ]
  },
  {
   "cell_type": "code",
   "execution_count": 44,
   "id": "7815e222-9aae-4b39-999e-689dcea5aeb8",
   "metadata": {},
   "outputs": [
    {
     "data": {
      "text/html": [
       "<div>\n",
       "<style scoped>\n",
       "    .dataframe tbody tr th:only-of-type {\n",
       "        vertical-align: middle;\n",
       "    }\n",
       "\n",
       "    .dataframe tbody tr th {\n",
       "        vertical-align: top;\n",
       "    }\n",
       "\n",
       "    .dataframe thead th {\n",
       "        text-align: right;\n",
       "    }\n",
       "</style>\n",
       "<table border=\"1\" class=\"dataframe\">\n",
       "  <thead>\n",
       "    <tr style=\"text-align: right;\">\n",
       "      <th></th>\n",
       "      <th>input</th>\n",
       "      <th>target</th>\n",
       "    </tr>\n",
       "  </thead>\n",
       "  <tbody>\n",
       "    <tr>\n",
       "      <th>0</th>\n",
       "      <td>16.24</td>\n",
       "      <td>2.287667</td>\n",
       "    </tr>\n",
       "    <tr>\n",
       "      <th>1</th>\n",
       "      <td>-6.12</td>\n",
       "      <td>31.075091</td>\n",
       "    </tr>\n",
       "    <tr>\n",
       "      <th>2</th>\n",
       "      <td>-5.28</td>\n",
       "      <td>47.737226</td>\n",
       "    </tr>\n",
       "  </tbody>\n",
       "</table>\n",
       "</div>"
      ],
      "text/plain": [
       "   input     target\n",
       "0  16.24   2.287667\n",
       "1  -6.12  31.075091\n",
       "2  -5.28  47.737226"
      ]
     },
     "execution_count": 44,
     "metadata": {},
     "output_type": "execute_result"
    }
   ],
   "source": [
    "df = pd.read_csv('C:/Users/aravi/c02_dataset_3_4.csv')\n",
    "\n",
    "df.head(3)"
   ]
  },
  {
   "cell_type": "markdown",
   "id": "da72a683-7346-4719-a391-df74dc12e636",
   "metadata": {},
   "source": [
    "Seperate out the input m(X) and the target (y)"
   ]
  },
  {
   "cell_type": "code",
   "execution_count": 45,
   "id": "d684c6ea-96f6-49db-9f35-c4588d83033f",
   "metadata": {
    "slideshow": {
     "slide_type": "subslide"
    },
    "tags": []
   },
   "outputs": [],
   "source": [
    "X=df[['input']]\n",
    "y=df[['target']]"
   ]
  },
  {
   "cell_type": "markdown",
   "id": "2251b80d-af86-4eb1-87b3-4852081028c3",
   "metadata": {},
   "source": [
    "## Step 3: Explore the given data\n",
    "\n",
    "Often we will do much more than this, but at least look at things using a scatterplot"
   ]
  },
  {
   "cell_type": "code",
   "execution_count": 46,
   "id": "8ba59a2e-a02a-4ea4-a73a-1ac6ba1d0056",
   "metadata": {},
   "outputs": [
    {
     "data": {
      "image/png": "[encoded data removed]",
      "text/plain": [
       "<Figure size 432x288 with 1 Axes>"
      ]
     },
     "metadata": {
      "needs_background": "light"
     },
     "output_type": "display_data"
    }
   ],
   "source": [
    "fig = plt.figure()\n",
    "ax = fig.add_subplot()\n",
    "\n",
    "ax.scatter(X, y, color='red')\n",
    "\n",
    "ax.set_xlabel('input')\n",
    "ax.set_ylabel('target')\n",
    "plt.tight_layout()\n",
    "plt.show()"
   ]
  },
  {
   "cell_type": "markdown",
   "id": "6545c4b0-4a61-4343-b7cf-db7f746b5d3c",
   "metadata": {},
   "source": [
    "## Step 4: Fit the model\n",
    "\n",
    "Fit the linear regression model to the dataset"
   ]
  },
  {
   "cell_type": "code",
   "execution_count": 47,
   "id": "8f566ef6-b1b2-4091-b9fb-f33c27832c5f",
   "metadata": {},
   "outputs": [],
   "source": [
    "lin_reg = LinearRegression().fit(np.sin(X),y) # fit the model"
   ]
  },
  {
   "cell_type": "markdown",
   "id": "b45e77cb-607a-4ef4-87ae-8fde787ed7ad",
   "metadata": {},
   "source": [
    "## Step 5: Analyze the linear regression model's performance"
   ]
  },
  {
   "cell_type": "markdown",
   "id": "ce57d2bf-91cd-4a8b-9383-621f0b0d1f68",
   "metadata": {},
   "source": [
    "Visualize the linear regression model results"
   ]
  },
  {
   "cell_type": "code",
   "execution_count": 48,
   "id": "847d4c77-85d5-4d8e-a939-6724e34413de",
   "metadata": {},
   "outputs": [
    {
     "data": {
      "image/png": "[encoded data removed]",
      "text/plain": [
       "<Figure size 432x288 with 1 Axes>"
      ]
     },
     "metadata": {
      "needs_background": "light"
     },
     "output_type": "display_data"
    }
   ],
   "source": [
    "fig = plt.figure() # create a figure\n",
    "ax = fig.add_subplot() # add a subplot\n",
    "\n",
    "ax.scatter(X, y, color='red') # plot the actual values\n",
    "ax.scatter(X,lin_reg.predict(np.sin(X)),color='blue') # plot the predicted values\n",
    "\n",
    "ax.set_title('Linear Regression') \n",
    "ax.set_xlabel('input') \n",
    "ax.set_ylabel('target')\n",
    "plt.tight_layout() # make sure the labels are not cut off\n",
    "plt.show() # show the plot"
   ]
  },
  {
   "cell_type": "code",
   "execution_count": 49,
   "id": "99cc188d-12c0-4489-bf4c-4524a87c57d4",
   "metadata": {
    "slideshow": {
     "slide_type": "subslide"
    },
    "tags": []
   },
   "outputs": [
    {
     "name": "stdout",
     "output_type": "stream",
     "text": [
      "Y = 20.76 + 30.29sin(x)\n",
      "R^2: 0.957\n"
     ]
    }
   ],
   "source": [
    "b0 = lin_reg.intercept_[0] # get the intercept\n",
    "b1 = lin_reg.coef_[0][0] # get the slope\n",
    "r2 = lin_reg.score(X, y) # get the R^2\n",
    "print(f\"Y = {b0:.2f} + {b1:.2f}sin(x)\")\n",
    "print(f\"R^2: {lin_reg.score(np.sin(X), y):.3f}\") "
   ]
  },
  {
   "cell_type": "markdown",
   "id": "d1166cd2",
   "metadata": {},
   "source": [
    "### Inference: By examining the linear regression model, the total R^2 value is improved by 1% (from 94.8% to 95.7%) from the original data with a reduction of 900 observations from 1000. This shows that the model's accuracy increases as the number of observations decreases."
   ]
  },
  {
   "cell_type": "code",
   "execution_count": null,
   "id": "15024923",
   "metadata": {},
   "outputs": [],
   "source": []
  }
 ],
 "metadata": {
  "kernelspec": {
   "display_name": "Python 3 (ipykernel)",
   "language": "python",
   "name": "python3"
  },
  "language_info": {
   "codemirror_mode": {
    "name": "ipython",
    "version": 3
   },
   "file_extension": ".py",
   "mimetype": "text/x-python",
   "name": "python",
   "nbconvert_exporter": "python",
   "pygments_lexer": "ipython3",
   "version": "3.9.12"
  },
  "vscode": {
   "interpreter": {
    "hash": "b056086e24cb5602cbcb82122035cd3d6ee2ccbf5df29c16e348c108b0f83be3"
   }
  }
 },
 "nbformat": 4,
 "nbformat_minor": 5
}
