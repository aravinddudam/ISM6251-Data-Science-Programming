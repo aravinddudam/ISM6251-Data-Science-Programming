{
 "cells": [
  {
   "cell_type": "markdown",
   "id": "389258be",
   "metadata": {},
   "source": [
    "# Assignment 1"
   ]
  },
  {
   "cell_type": "markdown",
   "id": "64b0f091",
   "metadata": {},
   "source": [
    "## ARAVIND DUDAM\n",
    "\n",
    "## U04440266"
   ]
  },
  {
   "cell_type": "markdown",
   "id": "9f4997f2",
   "metadata": {},
   "source": [
    "## About the dataset.\n",
    "\n",
    "The dataset is provideds the information on electric utility companies, their contact information, the types of services they offer, and the rates they charge for their services. The dataset also includes information on the service territories of electric utility companies and the types of energy sources they use to generate electricity.\n",
    "\n",
    "Users can search the dataset by entering a zipcode and selecting a search radius. The dataset will then return a list of electric utility companies operating within the specified search radius, along with their contact information and rate information.\n",
    "\n",
    "This dataset can be useful for individuals and businesses looking to compare rates and services offered by different electric utility companies in their area. It can also be used by researchers and policymakers to analyze trends in the electric utility industry and develop policies to promote competition and improve the affordability and reliability of electricity services.\n"
   ]
  },
  {
   "cell_type": "markdown",
   "id": "ed636e58",
   "metadata": {},
   "source": [
    "## Importing Libraries"
   ]
  },
  {
   "cell_type": "code",
   "execution_count": 307,
   "id": "da2d442c",
   "metadata": {},
   "outputs": [],
   "source": [
    "import pandas as pd\n",
    "import numpy as np\n",
    "from sklearn.model_selection import train_test_split\n",
    "import matplotlib.pyplot as plt\n",
    "# set random seed to ensure that results are repeatable\n",
    "np.random.seed(1)"
   ]
  },
  {
   "cell_type": "markdown",
   "id": "691d7540",
   "metadata": {},
   "source": [
    "## Loading the data"
   ]
  },
  {
   "cell_type": "code",
   "execution_count": 308,
   "id": "fdb20ba2",
   "metadata": {
    "scrolled": false
   },
   "outputs": [],
   "source": [
    "df = pd.read_csv(\"C:/Users/Aravind Dudam/Downloads/iou_zipcodes_2020_Updated.csv\")"
   ]
  },
  {
   "cell_type": "code",
   "execution_count": 309,
   "id": "e2be4968",
   "metadata": {},
   "outputs": [
    {
     "name": "stdout",
     "output_type": "stream",
     "text": [
      "<class 'pandas.core.frame.DataFrame'>\n",
      "RangeIndex: 52177 entries, 0 to 52176\n",
      "Data columns (total 9 columns):\n",
      " #   Column        Non-Null Count  Dtype  \n",
      "---  ------        --------------  -----  \n",
      " 0   zip           52177 non-null  int64  \n",
      " 1   eiaid         52177 non-null  int64  \n",
      " 2   utility_name  52177 non-null  object \n",
      " 3   state         52177 non-null  object \n",
      " 4   service_type  52177 non-null  int64  \n",
      " 5   ownership     52177 non-null  object \n",
      " 6   comm_rate     52177 non-null  float64\n",
      " 7   ind_rate      52177 non-null  float64\n",
      " 8   res_rate      52177 non-null  float64\n",
      "dtypes: float64(3), int64(3), object(3)\n",
      "memory usage: 3.6+ MB\n"
     ]
    }
   ],
   "source": [
    "df.info(5)"
   ]
  },
  {
   "cell_type": "code",
   "execution_count": 310,
   "id": "f9c6fc12",
   "metadata": {},
   "outputs": [
    {
     "data": {
      "text/html": [
       "<div>\n",
       "<style scoped>\n",
       "    .dataframe tbody tr th:only-of-type {\n",
       "        vertical-align: middle;\n",
       "    }\n",
       "\n",
       "    .dataframe tbody tr th {\n",
       "        vertical-align: top;\n",
       "    }\n",
       "\n",
       "    .dataframe thead th {\n",
       "        text-align: right;\n",
       "    }\n",
       "</style>\n",
       "<table border=\"1\" class=\"dataframe\">\n",
       "  <thead>\n",
       "    <tr style=\"text-align: right;\">\n",
       "      <th></th>\n",
       "      <th>zip</th>\n",
       "      <th>eiaid</th>\n",
       "      <th>utility_name</th>\n",
       "      <th>state</th>\n",
       "      <th>service_type</th>\n",
       "      <th>ownership</th>\n",
       "      <th>comm_rate</th>\n",
       "      <th>ind_rate</th>\n",
       "      <th>res_rate</th>\n",
       "    </tr>\n",
       "  </thead>\n",
       "  <tbody>\n",
       "    <tr>\n",
       "      <th>0</th>\n",
       "      <td>85321</td>\n",
       "      <td>176</td>\n",
       "      <td>Ajo Improvement Co</td>\n",
       "      <td>AZ</td>\n",
       "      <td>1</td>\n",
       "      <td>Investor Owned</td>\n",
       "      <td>0.087890</td>\n",
       "      <td>0.000000</td>\n",
       "      <td>0.093887</td>\n",
       "    </tr>\n",
       "    <tr>\n",
       "      <th>1</th>\n",
       "      <td>36560</td>\n",
       "      <td>195</td>\n",
       "      <td>Alabama Power Co</td>\n",
       "      <td>AL</td>\n",
       "      <td>1</td>\n",
       "      <td>Investor Owned</td>\n",
       "      <td>0.121895</td>\n",
       "      <td>0.063652</td>\n",
       "      <td>0.135057</td>\n",
       "    </tr>\n",
       "    <tr>\n",
       "      <th>2</th>\n",
       "      <td>36513</td>\n",
       "      <td>195</td>\n",
       "      <td>Alabama Power Co</td>\n",
       "      <td>AL</td>\n",
       "      <td>1</td>\n",
       "      <td>Investor Owned</td>\n",
       "      <td>0.121895</td>\n",
       "      <td>0.063652</td>\n",
       "      <td>0.135057</td>\n",
       "    </tr>\n",
       "    <tr>\n",
       "      <th>3</th>\n",
       "      <td>36280</td>\n",
       "      <td>195</td>\n",
       "      <td>Alabama Power Co</td>\n",
       "      <td>AL</td>\n",
       "      <td>1</td>\n",
       "      <td>Investor Owned</td>\n",
       "      <td>0.121895</td>\n",
       "      <td>0.063652</td>\n",
       "      <td>0.135057</td>\n",
       "    </tr>\n",
       "    <tr>\n",
       "      <th>4</th>\n",
       "      <td>35473</td>\n",
       "      <td>195</td>\n",
       "      <td>Alabama Power Co</td>\n",
       "      <td>AL</td>\n",
       "      <td>1</td>\n",
       "      <td>Investor Owned</td>\n",
       "      <td>0.121895</td>\n",
       "      <td>0.063652</td>\n",
       "      <td>0.135057</td>\n",
       "    </tr>\n",
       "    <tr>\n",
       "      <th>5</th>\n",
       "      <td>35229</td>\n",
       "      <td>195</td>\n",
       "      <td>Alabama Power Co</td>\n",
       "      <td>AL</td>\n",
       "      <td>1</td>\n",
       "      <td>Investor Owned</td>\n",
       "      <td>0.121895</td>\n",
       "      <td>0.063652</td>\n",
       "      <td>0.135057</td>\n",
       "    </tr>\n",
       "    <tr>\n",
       "      <th>6</th>\n",
       "      <td>36375</td>\n",
       "      <td>195</td>\n",
       "      <td>Alabama Power Co</td>\n",
       "      <td>AL</td>\n",
       "      <td>1</td>\n",
       "      <td>Investor Owned</td>\n",
       "      <td>0.121895</td>\n",
       "      <td>0.063652</td>\n",
       "      <td>0.135057</td>\n",
       "    </tr>\n",
       "    <tr>\n",
       "      <th>7</th>\n",
       "      <td>36042</td>\n",
       "      <td>195</td>\n",
       "      <td>Alabama Power Co</td>\n",
       "      <td>AL</td>\n",
       "      <td>1</td>\n",
       "      <td>Investor Owned</td>\n",
       "      <td>0.121895</td>\n",
       "      <td>0.063652</td>\n",
       "      <td>0.135057</td>\n",
       "    </tr>\n",
       "    <tr>\n",
       "      <th>8</th>\n",
       "      <td>36370</td>\n",
       "      <td>195</td>\n",
       "      <td>Alabama Power Co</td>\n",
       "      <td>AL</td>\n",
       "      <td>1</td>\n",
       "      <td>Investor Owned</td>\n",
       "      <td>0.121895</td>\n",
       "      <td>0.063652</td>\n",
       "      <td>0.135057</td>\n",
       "    </tr>\n",
       "    <tr>\n",
       "      <th>9</th>\n",
       "      <td>35555</td>\n",
       "      <td>195</td>\n",
       "      <td>Alabama Power Co</td>\n",
       "      <td>AL</td>\n",
       "      <td>1</td>\n",
       "      <td>Investor Owned</td>\n",
       "      <td>0.121895</td>\n",
       "      <td>0.063652</td>\n",
       "      <td>0.135057</td>\n",
       "    </tr>\n",
       "  </tbody>\n",
       "</table>\n",
       "</div>"
      ],
      "text/plain": [
       "     zip  eiaid        utility_name state  service_type       ownership  \\\n",
       "0  85321    176  Ajo Improvement Co    AZ             1  Investor Owned   \n",
       "1  36560    195    Alabama Power Co    AL             1  Investor Owned   \n",
       "2  36513    195    Alabama Power Co    AL             1  Investor Owned   \n",
       "3  36280    195    Alabama Power Co    AL             1  Investor Owned   \n",
       "4  35473    195    Alabama Power Co    AL             1  Investor Owned   \n",
       "5  35229    195    Alabama Power Co    AL             1  Investor Owned   \n",
       "6  36375    195    Alabama Power Co    AL             1  Investor Owned   \n",
       "7  36042    195    Alabama Power Co    AL             1  Investor Owned   \n",
       "8  36370    195    Alabama Power Co    AL             1  Investor Owned   \n",
       "9  35555    195    Alabama Power Co    AL             1  Investor Owned   \n",
       "\n",
       "   comm_rate  ind_rate  res_rate  \n",
       "0   0.087890  0.000000  0.093887  \n",
       "1   0.121895  0.063652  0.135057  \n",
       "2   0.121895  0.063652  0.135057  \n",
       "3   0.121895  0.063652  0.135057  \n",
       "4   0.121895  0.063652  0.135057  \n",
       "5   0.121895  0.063652  0.135057  \n",
       "6   0.121895  0.063652  0.135057  \n",
       "7   0.121895  0.063652  0.135057  \n",
       "8   0.121895  0.063652  0.135057  \n",
       "9   0.121895  0.063652  0.135057  "
      ]
     },
     "execution_count": 310,
     "metadata": {},
     "output_type": "execute_result"
    }
   ],
   "source": [
    "df.head(10)"
   ]
  },
  {
   "cell_type": "markdown",
   "id": "eb515af9",
   "metadata": {},
   "source": [
    "## Checking the Number of rows and columns"
   ]
  },
  {
   "cell_type": "code",
   "execution_count": 311,
   "id": "4b22b97b",
   "metadata": {},
   "outputs": [
    {
     "data": {
      "text/plain": [
       "(52177, 9)"
      ]
     },
     "execution_count": 311,
     "metadata": {},
     "output_type": "execute_result"
    }
   ],
   "source": [
    "df.shape"
   ]
  },
  {
   "cell_type": "markdown",
   "id": "4f0eb99c",
   "metadata": {},
   "source": [
    "## Finding Missing Values"
   ]
  },
  {
   "cell_type": "code",
   "execution_count": 312,
   "id": "cb84e630",
   "metadata": {},
   "outputs": [
    {
     "data": {
      "text/plain": [
       "zip             0\n",
       "eiaid           0\n",
       "utility_name    0\n",
       "state           0\n",
       "service_type    0\n",
       "ownership       0\n",
       "comm_rate       0\n",
       "ind_rate        0\n",
       "res_rate        0\n",
       "dtype: int64"
      ]
     },
     "execution_count": 312,
     "metadata": {},
     "output_type": "execute_result"
    }
   ],
   "source": [
    "df.isnull().sum()"
   ]
  },
  {
   "cell_type": "markdown",
   "id": "be3446f7",
   "metadata": {},
   "source": [
    "## Dropping rows with missing values"
   ]
  },
  {
   "cell_type": "code",
   "execution_count": 313,
   "id": "11e30c24",
   "metadata": {},
   "outputs": [],
   "source": [
    "df = df.dropna()"
   ]
  },
  {
   "cell_type": "code",
   "execution_count": 314,
   "id": "74959e6c",
   "metadata": {},
   "outputs": [
    {
     "data": {
      "text/plain": [
       "1    34924\n",
       "0    17253\n",
       "Name: service_type, dtype: int64"
      ]
     },
     "execution_count": 314,
     "metadata": {},
     "output_type": "execute_result"
    }
   ],
   "source": [
    "# Target Variable \"Service type\"\n",
    "df['service_type'].value_counts()"
   ]
  },
  {
   "cell_type": "markdown",
   "id": "811a678e",
   "metadata": {},
   "source": [
    "## Checking for Null Values"
   ]
  },
  {
   "cell_type": "code",
   "execution_count": 315,
   "id": "35c0b8f3",
   "metadata": {},
   "outputs": [
    {
     "data": {
      "text/plain": [
       "zip             0\n",
       "eiaid           0\n",
       "utility_name    0\n",
       "state           0\n",
       "service_type    0\n",
       "ownership       0\n",
       "comm_rate       0\n",
       "ind_rate        0\n",
       "res_rate        0\n",
       "dtype: int64"
      ]
     },
     "execution_count": 315,
     "metadata": {},
     "output_type": "execute_result"
    }
   ],
   "source": [
    "df.isna().sum()"
   ]
  },
  {
   "cell_type": "code",
   "execution_count": 316,
   "id": "310eb55a",
   "metadata": {},
   "outputs": [
    {
     "name": "stderr",
     "output_type": "stream",
     "text": [
      "C:\\Users\\Aravind Dudam\\AppData\\Local\\Temp\\ipykernel_21648\\3199772146.py:1: FutureWarning: The default value of numeric_only in DataFrame.corr is deprecated. In a future version, it will default to False. Select only valid columns or specify the value of numeric_only to silence this warning.\n",
      "  df.corr()['service_type'].sort_values(ascending=False)\n"
     ]
    },
    {
     "data": {
      "text/plain": [
       "service_type    1.000000\n",
       "comm_rate       0.620704\n",
       "res_rate        0.557937\n",
       "ind_rate        0.556955\n",
       "zip             0.132072\n",
       "eiaid          -0.064785\n",
       "Name: service_type, dtype: float64"
      ]
     },
     "execution_count": 316,
     "metadata": {},
     "output_type": "execute_result"
    }
   ],
   "source": [
    "df.corr()['service_type'].sort_values(ascending=False)"
   ]
  },
  {
   "cell_type": "markdown",
   "id": "e15db687",
   "metadata": {},
   "source": [
    "## Dropping the unrelavent columns"
   ]
  },
  {
   "cell_type": "code",
   "execution_count": 317,
   "id": "4170e945",
   "metadata": {},
   "outputs": [],
   "source": [
    "df_droped = df.drop(columns=[\"eiaid\" , \"zip\" , \"ownership\"])"
   ]
  },
  {
   "cell_type": "code",
   "execution_count": 318,
   "id": "30835d3f",
   "metadata": {},
   "outputs": [
    {
     "data": {
      "text/html": [
       "<div>\n",
       "<style scoped>\n",
       "    .dataframe tbody tr th:only-of-type {\n",
       "        vertical-align: middle;\n",
       "    }\n",
       "\n",
       "    .dataframe tbody tr th {\n",
       "        vertical-align: top;\n",
       "    }\n",
       "\n",
       "    .dataframe thead th {\n",
       "        text-align: right;\n",
       "    }\n",
       "</style>\n",
       "<table border=\"1\" class=\"dataframe\">\n",
       "  <thead>\n",
       "    <tr style=\"text-align: right;\">\n",
       "      <th></th>\n",
       "      <th>utility_name</th>\n",
       "      <th>state</th>\n",
       "      <th>service_type</th>\n",
       "      <th>comm_rate</th>\n",
       "      <th>ind_rate</th>\n",
       "      <th>res_rate</th>\n",
       "    </tr>\n",
       "  </thead>\n",
       "  <tbody>\n",
       "    <tr>\n",
       "      <th>0</th>\n",
       "      <td>Ajo Improvement Co</td>\n",
       "      <td>AZ</td>\n",
       "      <td>1</td>\n",
       "      <td>0.087890</td>\n",
       "      <td>0.000000</td>\n",
       "      <td>0.093887</td>\n",
       "    </tr>\n",
       "    <tr>\n",
       "      <th>1</th>\n",
       "      <td>Alabama Power Co</td>\n",
       "      <td>AL</td>\n",
       "      <td>1</td>\n",
       "      <td>0.121895</td>\n",
       "      <td>0.063652</td>\n",
       "      <td>0.135057</td>\n",
       "    </tr>\n",
       "    <tr>\n",
       "      <th>2</th>\n",
       "      <td>Alabama Power Co</td>\n",
       "      <td>AL</td>\n",
       "      <td>1</td>\n",
       "      <td>0.121895</td>\n",
       "      <td>0.063652</td>\n",
       "      <td>0.135057</td>\n",
       "    </tr>\n",
       "    <tr>\n",
       "      <th>3</th>\n",
       "      <td>Alabama Power Co</td>\n",
       "      <td>AL</td>\n",
       "      <td>1</td>\n",
       "      <td>0.121895</td>\n",
       "      <td>0.063652</td>\n",
       "      <td>0.135057</td>\n",
       "    </tr>\n",
       "    <tr>\n",
       "      <th>4</th>\n",
       "      <td>Alabama Power Co</td>\n",
       "      <td>AL</td>\n",
       "      <td>1</td>\n",
       "      <td>0.121895</td>\n",
       "      <td>0.063652</td>\n",
       "      <td>0.135057</td>\n",
       "    </tr>\n",
       "    <tr>\n",
       "      <th>...</th>\n",
       "      <td>...</td>\n",
       "      <td>...</td>\n",
       "      <td>...</td>\n",
       "      <td>...</td>\n",
       "      <td>...</td>\n",
       "      <td>...</td>\n",
       "    </tr>\n",
       "    <tr>\n",
       "      <th>52172</th>\n",
       "      <td>Liberty Utilities</td>\n",
       "      <td>CA</td>\n",
       "      <td>1</td>\n",
       "      <td>0.146224</td>\n",
       "      <td>0.000000</td>\n",
       "      <td>0.140019</td>\n",
       "    </tr>\n",
       "    <tr>\n",
       "      <th>52173</th>\n",
       "      <td>Liberty Utilities</td>\n",
       "      <td>CA</td>\n",
       "      <td>1</td>\n",
       "      <td>0.146224</td>\n",
       "      <td>0.000000</td>\n",
       "      <td>0.140019</td>\n",
       "    </tr>\n",
       "    <tr>\n",
       "      <th>52174</th>\n",
       "      <td>Liberty Utilities</td>\n",
       "      <td>CA</td>\n",
       "      <td>1</td>\n",
       "      <td>0.146224</td>\n",
       "      <td>0.000000</td>\n",
       "      <td>0.140019</td>\n",
       "    </tr>\n",
       "    <tr>\n",
       "      <th>52175</th>\n",
       "      <td>Liberty Utilities</td>\n",
       "      <td>CA</td>\n",
       "      <td>1</td>\n",
       "      <td>0.146224</td>\n",
       "      <td>0.000000</td>\n",
       "      <td>0.140019</td>\n",
       "    </tr>\n",
       "    <tr>\n",
       "      <th>52176</th>\n",
       "      <td>Liberty Utilities</td>\n",
       "      <td>CA</td>\n",
       "      <td>1</td>\n",
       "      <td>0.146224</td>\n",
       "      <td>0.000000</td>\n",
       "      <td>0.140019</td>\n",
       "    </tr>\n",
       "  </tbody>\n",
       "</table>\n",
       "<p>52177 rows × 6 columns</p>\n",
       "</div>"
      ],
      "text/plain": [
       "             utility_name state  service_type  comm_rate  ind_rate  res_rate\n",
       "0      Ajo Improvement Co    AZ             1   0.087890  0.000000  0.093887\n",
       "1        Alabama Power Co    AL             1   0.121895  0.063652  0.135057\n",
       "2        Alabama Power Co    AL             1   0.121895  0.063652  0.135057\n",
       "3        Alabama Power Co    AL             1   0.121895  0.063652  0.135057\n",
       "4        Alabama Power Co    AL             1   0.121895  0.063652  0.135057\n",
       "...                   ...   ...           ...        ...       ...       ...\n",
       "52172   Liberty Utilities    CA             1   0.146224  0.000000  0.140019\n",
       "52173   Liberty Utilities    CA             1   0.146224  0.000000  0.140019\n",
       "52174   Liberty Utilities    CA             1   0.146224  0.000000  0.140019\n",
       "52175   Liberty Utilities    CA             1   0.146224  0.000000  0.140019\n",
       "52176   Liberty Utilities    CA             1   0.146224  0.000000  0.140019\n",
       "\n",
       "[52177 rows x 6 columns]"
      ]
     },
     "execution_count": 318,
     "metadata": {},
     "output_type": "execute_result"
    }
   ],
   "source": [
    "df_droped"
   ]
  },
  {
   "cell_type": "markdown",
   "id": "171e4cc7",
   "metadata": {},
   "source": [
    "## Performing one hot encoding"
   ]
  },
  {
   "cell_type": "code",
   "execution_count": 319,
   "id": "f8e23fbf",
   "metadata": {},
   "outputs": [
    {
     "data": {
      "text/html": [
       "<div>\n",
       "<style scoped>\n",
       "    .dataframe tbody tr th:only-of-type {\n",
       "        vertical-align: middle;\n",
       "    }\n",
       "\n",
       "    .dataframe tbody tr th {\n",
       "        vertical-align: top;\n",
       "    }\n",
       "\n",
       "    .dataframe thead th {\n",
       "        text-align: right;\n",
       "    }\n",
       "</style>\n",
       "<table border=\"1\" class=\"dataframe\">\n",
       "  <thead>\n",
       "    <tr style=\"text-align: right;\">\n",
       "      <th></th>\n",
       "      <th>service_type</th>\n",
       "      <th>comm_rate</th>\n",
       "      <th>ind_rate</th>\n",
       "      <th>res_rate</th>\n",
       "      <th>utility_name_ALLETE, Inc.</th>\n",
       "      <th>utility_name_Ajo Improvement Co</th>\n",
       "      <th>utility_name_Alabama Power Co</th>\n",
       "      <th>utility_name_Alaska Electric Light&amp;Power Co</th>\n",
       "      <th>utility_name_Alaska Power and Telephone Co</th>\n",
       "      <th>utility_name_Alpena Power Co</th>\n",
       "      <th>...</th>\n",
       "      <th>state_SD</th>\n",
       "      <th>state_TN</th>\n",
       "      <th>state_TX</th>\n",
       "      <th>state_UT</th>\n",
       "      <th>state_VA</th>\n",
       "      <th>state_VT</th>\n",
       "      <th>state_WA</th>\n",
       "      <th>state_WI</th>\n",
       "      <th>state_WV</th>\n",
       "      <th>state_WY</th>\n",
       "    </tr>\n",
       "  </thead>\n",
       "  <tbody>\n",
       "    <tr>\n",
       "      <th>0</th>\n",
       "      <td>1</td>\n",
       "      <td>0.087890</td>\n",
       "      <td>0.000000</td>\n",
       "      <td>0.093887</td>\n",
       "      <td>0</td>\n",
       "      <td>1</td>\n",
       "      <td>0</td>\n",
       "      <td>0</td>\n",
       "      <td>0</td>\n",
       "      <td>0</td>\n",
       "      <td>...</td>\n",
       "      <td>0</td>\n",
       "      <td>0</td>\n",
       "      <td>0</td>\n",
       "      <td>0</td>\n",
       "      <td>0</td>\n",
       "      <td>0</td>\n",
       "      <td>0</td>\n",
       "      <td>0</td>\n",
       "      <td>0</td>\n",
       "      <td>0</td>\n",
       "    </tr>\n",
       "    <tr>\n",
       "      <th>1</th>\n",
       "      <td>1</td>\n",
       "      <td>0.121895</td>\n",
       "      <td>0.063652</td>\n",
       "      <td>0.135057</td>\n",
       "      <td>0</td>\n",
       "      <td>0</td>\n",
       "      <td>1</td>\n",
       "      <td>0</td>\n",
       "      <td>0</td>\n",
       "      <td>0</td>\n",
       "      <td>...</td>\n",
       "      <td>0</td>\n",
       "      <td>0</td>\n",
       "      <td>0</td>\n",
       "      <td>0</td>\n",
       "      <td>0</td>\n",
       "      <td>0</td>\n",
       "      <td>0</td>\n",
       "      <td>0</td>\n",
       "      <td>0</td>\n",
       "      <td>0</td>\n",
       "    </tr>\n",
       "    <tr>\n",
       "      <th>2</th>\n",
       "      <td>1</td>\n",
       "      <td>0.121895</td>\n",
       "      <td>0.063652</td>\n",
       "      <td>0.135057</td>\n",
       "      <td>0</td>\n",
       "      <td>0</td>\n",
       "      <td>1</td>\n",
       "      <td>0</td>\n",
       "      <td>0</td>\n",
       "      <td>0</td>\n",
       "      <td>...</td>\n",
       "      <td>0</td>\n",
       "      <td>0</td>\n",
       "      <td>0</td>\n",
       "      <td>0</td>\n",
       "      <td>0</td>\n",
       "      <td>0</td>\n",
       "      <td>0</td>\n",
       "      <td>0</td>\n",
       "      <td>0</td>\n",
       "      <td>0</td>\n",
       "    </tr>\n",
       "    <tr>\n",
       "      <th>3</th>\n",
       "      <td>1</td>\n",
       "      <td>0.121895</td>\n",
       "      <td>0.063652</td>\n",
       "      <td>0.135057</td>\n",
       "      <td>0</td>\n",
       "      <td>0</td>\n",
       "      <td>1</td>\n",
       "      <td>0</td>\n",
       "      <td>0</td>\n",
       "      <td>0</td>\n",
       "      <td>...</td>\n",
       "      <td>0</td>\n",
       "      <td>0</td>\n",
       "      <td>0</td>\n",
       "      <td>0</td>\n",
       "      <td>0</td>\n",
       "      <td>0</td>\n",
       "      <td>0</td>\n",
       "      <td>0</td>\n",
       "      <td>0</td>\n",
       "      <td>0</td>\n",
       "    </tr>\n",
       "    <tr>\n",
       "      <th>4</th>\n",
       "      <td>1</td>\n",
       "      <td>0.121895</td>\n",
       "      <td>0.063652</td>\n",
       "      <td>0.135057</td>\n",
       "      <td>0</td>\n",
       "      <td>0</td>\n",
       "      <td>1</td>\n",
       "      <td>0</td>\n",
       "      <td>0</td>\n",
       "      <td>0</td>\n",
       "      <td>...</td>\n",
       "      <td>0</td>\n",
       "      <td>0</td>\n",
       "      <td>0</td>\n",
       "      <td>0</td>\n",
       "      <td>0</td>\n",
       "      <td>0</td>\n",
       "      <td>0</td>\n",
       "      <td>0</td>\n",
       "      <td>0</td>\n",
       "      <td>0</td>\n",
       "    </tr>\n",
       "    <tr>\n",
       "      <th>...</th>\n",
       "      <td>...</td>\n",
       "      <td>...</td>\n",
       "      <td>...</td>\n",
       "      <td>...</td>\n",
       "      <td>...</td>\n",
       "      <td>...</td>\n",
       "      <td>...</td>\n",
       "      <td>...</td>\n",
       "      <td>...</td>\n",
       "      <td>...</td>\n",
       "      <td>...</td>\n",
       "      <td>...</td>\n",
       "      <td>...</td>\n",
       "      <td>...</td>\n",
       "      <td>...</td>\n",
       "      <td>...</td>\n",
       "      <td>...</td>\n",
       "      <td>...</td>\n",
       "      <td>...</td>\n",
       "      <td>...</td>\n",
       "      <td>...</td>\n",
       "    </tr>\n",
       "    <tr>\n",
       "      <th>52172</th>\n",
       "      <td>1</td>\n",
       "      <td>0.146224</td>\n",
       "      <td>0.000000</td>\n",
       "      <td>0.140019</td>\n",
       "      <td>0</td>\n",
       "      <td>0</td>\n",
       "      <td>0</td>\n",
       "      <td>0</td>\n",
       "      <td>0</td>\n",
       "      <td>0</td>\n",
       "      <td>...</td>\n",
       "      <td>0</td>\n",
       "      <td>0</td>\n",
       "      <td>0</td>\n",
       "      <td>0</td>\n",
       "      <td>0</td>\n",
       "      <td>0</td>\n",
       "      <td>0</td>\n",
       "      <td>0</td>\n",
       "      <td>0</td>\n",
       "      <td>0</td>\n",
       "    </tr>\n",
       "    <tr>\n",
       "      <th>52173</th>\n",
       "      <td>1</td>\n",
       "      <td>0.146224</td>\n",
       "      <td>0.000000</td>\n",
       "      <td>0.140019</td>\n",
       "      <td>0</td>\n",
       "      <td>0</td>\n",
       "      <td>0</td>\n",
       "      <td>0</td>\n",
       "      <td>0</td>\n",
       "      <td>0</td>\n",
       "      <td>...</td>\n",
       "      <td>0</td>\n",
       "      <td>0</td>\n",
       "      <td>0</td>\n",
       "      <td>0</td>\n",
       "      <td>0</td>\n",
       "      <td>0</td>\n",
       "      <td>0</td>\n",
       "      <td>0</td>\n",
       "      <td>0</td>\n",
       "      <td>0</td>\n",
       "    </tr>\n",
       "    <tr>\n",
       "      <th>52174</th>\n",
       "      <td>1</td>\n",
       "      <td>0.146224</td>\n",
       "      <td>0.000000</td>\n",
       "      <td>0.140019</td>\n",
       "      <td>0</td>\n",
       "      <td>0</td>\n",
       "      <td>0</td>\n",
       "      <td>0</td>\n",
       "      <td>0</td>\n",
       "      <td>0</td>\n",
       "      <td>...</td>\n",
       "      <td>0</td>\n",
       "      <td>0</td>\n",
       "      <td>0</td>\n",
       "      <td>0</td>\n",
       "      <td>0</td>\n",
       "      <td>0</td>\n",
       "      <td>0</td>\n",
       "      <td>0</td>\n",
       "      <td>0</td>\n",
       "      <td>0</td>\n",
       "    </tr>\n",
       "    <tr>\n",
       "      <th>52175</th>\n",
       "      <td>1</td>\n",
       "      <td>0.146224</td>\n",
       "      <td>0.000000</td>\n",
       "      <td>0.140019</td>\n",
       "      <td>0</td>\n",
       "      <td>0</td>\n",
       "      <td>0</td>\n",
       "      <td>0</td>\n",
       "      <td>0</td>\n",
       "      <td>0</td>\n",
       "      <td>...</td>\n",
       "      <td>0</td>\n",
       "      <td>0</td>\n",
       "      <td>0</td>\n",
       "      <td>0</td>\n",
       "      <td>0</td>\n",
       "      <td>0</td>\n",
       "      <td>0</td>\n",
       "      <td>0</td>\n",
       "      <td>0</td>\n",
       "      <td>0</td>\n",
       "    </tr>\n",
       "    <tr>\n",
       "      <th>52176</th>\n",
       "      <td>1</td>\n",
       "      <td>0.146224</td>\n",
       "      <td>0.000000</td>\n",
       "      <td>0.140019</td>\n",
       "      <td>0</td>\n",
       "      <td>0</td>\n",
       "      <td>0</td>\n",
       "      <td>0</td>\n",
       "      <td>0</td>\n",
       "      <td>0</td>\n",
       "      <td>...</td>\n",
       "      <td>0</td>\n",
       "      <td>0</td>\n",
       "      <td>0</td>\n",
       "      <td>0</td>\n",
       "      <td>0</td>\n",
       "      <td>0</td>\n",
       "      <td>0</td>\n",
       "      <td>0</td>\n",
       "      <td>0</td>\n",
       "      <td>0</td>\n",
       "    </tr>\n",
       "  </tbody>\n",
       "</table>\n",
       "<p>52177 rows × 197 columns</p>\n",
       "</div>"
      ],
      "text/plain": [
       "       service_type  comm_rate  ind_rate  res_rate  utility_name_ALLETE, Inc.  \\\n",
       "0                 1   0.087890  0.000000  0.093887                          0   \n",
       "1                 1   0.121895  0.063652  0.135057                          0   \n",
       "2                 1   0.121895  0.063652  0.135057                          0   \n",
       "3                 1   0.121895  0.063652  0.135057                          0   \n",
       "4                 1   0.121895  0.063652  0.135057                          0   \n",
       "...             ...        ...       ...       ...                        ...   \n",
       "52172             1   0.146224  0.000000  0.140019                          0   \n",
       "52173             1   0.146224  0.000000  0.140019                          0   \n",
       "52174             1   0.146224  0.000000  0.140019                          0   \n",
       "52175             1   0.146224  0.000000  0.140019                          0   \n",
       "52176             1   0.146224  0.000000  0.140019                          0   \n",
       "\n",
       "       utility_name_Ajo Improvement Co  utility_name_Alabama Power Co  \\\n",
       "0                                    1                              0   \n",
       "1                                    0                              1   \n",
       "2                                    0                              1   \n",
       "3                                    0                              1   \n",
       "4                                    0                              1   \n",
       "...                                ...                            ...   \n",
       "52172                                0                              0   \n",
       "52173                                0                              0   \n",
       "52174                                0                              0   \n",
       "52175                                0                              0   \n",
       "52176                                0                              0   \n",
       "\n",
       "       utility_name_Alaska Electric Light&Power Co  \\\n",
       "0                                                0   \n",
       "1                                                0   \n",
       "2                                                0   \n",
       "3                                                0   \n",
       "4                                                0   \n",
       "...                                            ...   \n",
       "52172                                            0   \n",
       "52173                                            0   \n",
       "52174                                            0   \n",
       "52175                                            0   \n",
       "52176                                            0   \n",
       "\n",
       "       utility_name_Alaska Power and Telephone Co  \\\n",
       "0                                               0   \n",
       "1                                               0   \n",
       "2                                               0   \n",
       "3                                               0   \n",
       "4                                               0   \n",
       "...                                           ...   \n",
       "52172                                           0   \n",
       "52173                                           0   \n",
       "52174                                           0   \n",
       "52175                                           0   \n",
       "52176                                           0   \n",
       "\n",
       "       utility_name_Alpena Power Co  ...  state_SD  state_TN  state_TX  \\\n",
       "0                                 0  ...         0         0         0   \n",
       "1                                 0  ...         0         0         0   \n",
       "2                                 0  ...         0         0         0   \n",
       "3                                 0  ...         0         0         0   \n",
       "4                                 0  ...         0         0         0   \n",
       "...                             ...  ...       ...       ...       ...   \n",
       "52172                             0  ...         0         0         0   \n",
       "52173                             0  ...         0         0         0   \n",
       "52174                             0  ...         0         0         0   \n",
       "52175                             0  ...         0         0         0   \n",
       "52176                             0  ...         0         0         0   \n",
       "\n",
       "       state_UT  state_VA  state_VT  state_WA  state_WI  state_WV  state_WY  \n",
       "0             0         0         0         0         0         0         0  \n",
       "1             0         0         0         0         0         0         0  \n",
       "2             0         0         0         0         0         0         0  \n",
       "3             0         0         0         0         0         0         0  \n",
       "4             0         0         0         0         0         0         0  \n",
       "...         ...       ...       ...       ...       ...       ...       ...  \n",
       "52172         0         0         0         0         0         0         0  \n",
       "52173         0         0         0         0         0         0         0  \n",
       "52174         0         0         0         0         0         0         0  \n",
       "52175         0         0         0         0         0         0         0  \n",
       "52176         0         0         0         0         0         0         0  \n",
       "\n",
       "[52177 rows x 197 columns]"
      ]
     },
     "execution_count": 319,
     "metadata": {},
     "output_type": "execute_result"
    }
   ],
   "source": [
    "EncodedData = pd.get_dummies(df_droped, columns = ['utility_name', 'state'])\n",
    "EncodedData"
   ]
  },
  {
   "cell_type": "markdown",
   "id": "c8029b4a",
   "metadata": {},
   "source": [
    "## Splitting the Model into test train"
   ]
  },
  {
   "cell_type": "code",
   "execution_count": 320,
   "id": "3ab1e088",
   "metadata": {},
   "outputs": [
    {
     "data": {
      "text/plain": [
       "((36523, 196), (15654, 196), (36523,), (15654,))"
      ]
     },
     "execution_count": 320,
     "metadata": {},
     "output_type": "execute_result"
    }
   ],
   "source": [
    "X = EncodedData.drop('service_type',axis=1)\n",
    "y = EncodedData['service_type']\n",
    "X_train, X_test, y_train, y_test = train_test_split(X, y, test_size = 0.3, random_state = 14)\n",
    "X_train.shape, X_test.shape, y_train.shape, y_test.shape"
   ]
  },
  {
   "cell_type": "markdown",
   "id": "be570fc7",
   "metadata": {},
   "source": [
    "## Scaling the Data"
   ]
  },
  {
   "cell_type": "code",
   "execution_count": 321,
   "id": "c989a08b",
   "metadata": {},
   "outputs": [],
   "source": [
    "scaler = MinMaxScaler()\n",
    "model=scaler.fit(X_train)\n",
    "X_train=model.transform(X_train)\n",
    "X_test=model.transform(X_test)"
   ]
  },
  {
   "cell_type": "markdown",
   "id": "792bdd5c",
   "metadata": {},
   "source": [
    "## Finding the Data Imbalances"
   ]
  },
  {
   "cell_type": "code",
   "execution_count": 322,
   "id": "9b0eaa46",
   "metadata": {},
   "outputs": [
    {
     "data": {
      "text/plain": [
       "1    24493\n",
       "0    12030\n",
       "Name: service_type, dtype: int64"
      ]
     },
     "execution_count": 322,
     "metadata": {},
     "output_type": "execute_result"
    }
   ],
   "source": [
    "y_train.value_counts()"
   ]
  },
  {
   "cell_type": "markdown",
   "id": "564271e9",
   "metadata": {},
   "source": [
    "From the above results we can see that their is a data imbalance so for which I have decided to do a undersmapling for the data"
   ]
  },
  {
   "cell_type": "markdown",
   "id": "659b3ffe",
   "metadata": {},
   "source": [
    "## Resampling the Data"
   ]
  },
  {
   "cell_type": "code",
   "execution_count": 323,
   "id": "812b0c31",
   "metadata": {},
   "outputs": [],
   "source": [
    "# create RandomUnderSampler object\n",
    "rus = RandomUnderSampler(random_state=0)"
   ]
  },
  {
   "cell_type": "code",
   "execution_count": 324,
   "id": "dbf40fe8",
   "metadata": {},
   "outputs": [],
   "source": [
    "# fit and resample the training data\n",
    "X_train, y_train = rus.fit_resample(X_train, y_train)"
   ]
  },
  {
   "cell_type": "code",
   "execution_count": 325,
   "id": "ced69005",
   "metadata": {},
   "outputs": [
    {
     "data": {
      "text/plain": [
       "0    12030\n",
       "1    12030\n",
       "Name: service_type, dtype: int64"
      ]
     },
     "execution_count": 325,
     "metadata": {},
     "output_type": "execute_result"
    }
   ],
   "source": [
    "y_train.value_counts()"
   ]
  },
  {
   "cell_type": "code",
   "execution_count": null,
   "id": "454828ba",
   "metadata": {},
   "outputs": [],
   "source": [
    "### From the above results we can say that the data is resampled and "
   ]
  },
  {
   "cell_type": "markdown",
   "id": "b6a4bcf1",
   "metadata": {},
   "source": [
    "## Saving the files for further Model predection operations."
   ]
  },
  {
   "cell_type": "code",
   "execution_count": 290,
   "id": "8a5b72c0",
   "metadata": {},
   "outputs": [],
   "source": [
    "X_train = pd.DataFrame(X_train)\n",
    "X_train.to_csv('C:/Users/Aravind Dudam/Downloads/X_train.csv', index=False)"
   ]
  },
  {
   "cell_type": "code",
   "execution_count": 291,
   "id": "3e3d6d77",
   "metadata": {},
   "outputs": [],
   "source": [
    "X_test = pd.DataFrame(X_test)\n",
    "X_test.to_csv('C:/Users/Aravind Dudam/Downloads/X_test.csv', index=False)"
   ]
  },
  {
   "cell_type": "code",
   "execution_count": 292,
   "id": "c56a52b8",
   "metadata": {},
   "outputs": [],
   "source": [
    "y_train = pd.DataFrame(X_train)\n",
    "y_train.to_csv('C:/Users/Aravind Dudam/Downloads/y_train.csv', index=False)"
   ]
  },
  {
   "cell_type": "code",
   "execution_count": 293,
   "id": "6d1a0541",
   "metadata": {},
   "outputs": [],
   "source": [
    "y_test = pd.DataFrame(X_test)\n",
    "y_test.to_csv('C:/Users/Aravind Dudam/Downloads/y_test.csv', index=False)"
   ]
  }
 ],
 "metadata": {
  "kernelspec": {
   "display_name": "Python 3 (ipykernel)",
   "language": "python",
   "name": "python3"
  },
  "language_info": {
   "codemirror_mode": {
    "name": "ipython",
    "version": 3
   },
   "file_extension": ".py",
   "mimetype": "text/x-python",
   "name": "python",
   "nbconvert_exporter": "python",
   "pygments_lexer": "ipython3",
   "version": "3.10.9"
  }
 },
 "nbformat": 4,
 "nbformat_minor": 5
}
